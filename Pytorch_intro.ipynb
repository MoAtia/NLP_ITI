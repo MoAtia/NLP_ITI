{
  "nbformat": 4,
  "nbformat_minor": 0,
  "metadata": {
    "colab": {
      "provenance": []
    },
    "kernelspec": {
      "name": "python3",
      "display_name": "Python 3"
    },
    "language_info": {
      "name": "python"
    }
  },
  "cells": [
    {
      "cell_type": "markdown",
      "source": [
        "# PyTorch training loop and Testing loop\n",
        "\n",
        "For the training loop, we'll build the following steps:\n",
        "\n",
        "1. Forward pass\n",
        "2. Calculate the loss\n",
        "3. \tZero gradients\n",
        "4. Perform backpropagation on the loss\n",
        "5. Update the optimizer (gradient descent)"
      ],
      "metadata": {
        "id": "aaCTDideKMe0"
      }
    },
    {
      "cell_type": "code",
      "source": [
        "import torch\n",
        "import numpy as np\n",
        "import seaborn as sns\n",
        "from torch import nn\n",
        "\n",
        "torch.manual_seed(42)\n",
        "\n",
        "X = np.linspace(0,20,num=200)\n",
        "y = X + np.sin(X)*2 + np.random.normal(size=X.shape)"
      ],
      "metadata": {
        "id": "BnXLe6-gLijJ"
      },
      "execution_count": 1,
      "outputs": []
    },
    {
      "cell_type": "code",
      "source": [
        "sns.scatterplot(x=X,y=y,color='Blue', label='Data')"
      ],
      "metadata": {
        "colab": {
          "base_uri": "https://localhost:8080/",
          "height": 447
        },
        "id": "Vm5axwtbE3-j",
        "outputId": "5dc0178d-baa6-4d3b-db0f-86d7648b5219"
      },
      "execution_count": 2,
      "outputs": [
        {
          "output_type": "execute_result",
          "data": {
            "text/plain": [
              "<Axes: >"
            ]
          },
          "metadata": {},
          "execution_count": 2
        },
        {
          "output_type": "display_data",
          "data": {
            "text/plain": [
              "<Figure size 640x480 with 1 Axes>"
            ],
            "image/png": "[encoded data removed]"
          },
          "metadata": {}
        }
      ]
    },
    {
      "cell_type": "code",
      "source": [
        "from torch.utils.data import Dataset , DataLoader\n",
        "\n",
        "class Simple1DRegressionDataset(Dataset):\n",
        "    def __init__(self,X,y):\n",
        "        super(Simple1DRegressionDataset,self).__init__()\n",
        "        self.X = X.reshape(-1,1)\n",
        "        self.y = y.reshape(-1,1)\n",
        "\n",
        "    def __getitem__(self,index):\n",
        "        return torch.tensor(self.X[index,:],dtype=torch.float32) , torch.tensor(self.y[index,:],dtype=torch.float32)\n",
        "\n",
        "    def __len__(self):\n",
        "        return self.X.shape[0]"
      ],
      "metadata": {
        "id": "2Zh5W6r7E36j"
      },
      "execution_count": 3,
      "outputs": []
    },
    {
      "cell_type": "code",
      "source": [
        "df = Simple1DRegressionDataset(X,y)"
      ],
      "metadata": {
        "id": "IT2wvxUME31b"
      },
      "execution_count": 4,
      "outputs": []
    },
    {
      "cell_type": "code",
      "source": [
        "df[0]\n"
      ],
      "metadata": {
        "colab": {
          "base_uri": "https://localhost:8080/"
        },
        "id": "nGuq6xVUGutr",
        "outputId": "facff213-bf22-4c8a-dc97-cdc325e1d7b3"
      },
      "execution_count": 5,
      "outputs": [
        {
          "output_type": "execute_result",
          "data": {
            "text/plain": [
              "(tensor([0.]), tensor([2.0171]))"
            ]
          },
          "metadata": {},
          "execution_count": 5
        }
      ]
    },
    {
      "cell_type": "code",
      "source": [
        "training_loader = DataLoader(Simple1DRegressionDataset(X,y),shuffle=True)"
      ],
      "metadata": {
        "id": "5FvH4p6pGxEA"
      },
      "execution_count": 143,
      "outputs": []
    },
    {
      "cell_type": "code",
      "source": [
        "data_point = next(iter(training_loader))\n",
        "data_point\n"
      ],
      "metadata": {
        "colab": {
          "base_uri": "https://localhost:8080/"
        },
        "id": "IWUOGAouHAmq",
        "outputId": "f62e85e4-5baa-45e4-ea95-9d448a50d4d9"
      },
      "execution_count": 144,
      "outputs": [
        {
          "output_type": "execute_result",
          "data": {
            "text/plain": [
              "[tensor([[18.4925]]), tensor([[17.7987]])]"
            ]
          },
          "metadata": {},
          "execution_count": 144
        }
      ]
    },
    {
      "cell_type": "code",
      "source": [
        "import torch.nn.functional as F"
      ],
      "metadata": {
        "id": "wb-uQUiHOtBV"
      },
      "execution_count": 145,
      "outputs": []
    },
    {
      "cell_type": "code",
      "source": [
        "# construct the model using Linear block\n",
        "in_features = 1\n",
        "out_features = 1\n",
        "\n",
        "class Model(nn.Module):\n",
        "  def __init__(self,in_features,out_features):\n",
        "    super(Model,self).__init__()\n",
        "    self.linear1 = nn.Linear(in_features=in_features, out_features=64)\n",
        "    self.linear2 = nn.Linear(in_features=64, out_features=32)\n",
        "    self.linear3 = nn.Linear(in_features=32, out_features=out_features)\n",
        "    self.relu1 = nn.LeakyReLU()\n",
        "    self.relu2 = nn.LeakyReLU()\n",
        "\n",
        "  def forward(self,x):\n",
        "\n",
        "    x = self.relu1(self.linear1(x))\n",
        "    x = self.relu2(self.linear2(x))\n",
        "    x = self.linear3(x)\n",
        "    return x\n"
      ],
      "metadata": {
        "id": "WGHvuzGtIcYo"
      },
      "execution_count": 146,
      "outputs": []
    },
    {
      "cell_type": "code",
      "source": [
        "loss_fn = nn.MSELoss()"
      ],
      "metadata": {
        "id": "oF2u-u1_Iq2c"
      },
      "execution_count": 147,
      "outputs": []
    },
    {
      "cell_type": "code",
      "source": [
        "# model_2 = Model(in_features,out_features)\n",
        "model_2 = nn.Sequential(\n",
        "    nn.Linear(in_features, 128),\n",
        "    nn.ReLU(),\n",
        "    nn.Linear(128, 64),\n",
        "    nn.ReLU(),\n",
        "    nn.Linear(64, 32),\n",
        "    nn.ReLU(),\n",
        "    nn.Linear(32, out_features)\n",
        ")\n",
        "optimizer = torch.optim.Adam(params=model_2.parameters(),lr=0.01)"
      ],
      "metadata": {
        "id": "f3wZFVjAIsPX"
      },
      "execution_count": 148,
      "outputs": []
    },
    {
      "cell_type": "code",
      "source": [],
      "metadata": {
        "id": "9zxcMYOCT69P"
      },
      "execution_count": 148,
      "outputs": []
    },
    {
      "cell_type": "code",
      "source": [
        "# so we need now a training loop\n",
        "from tqdm.autonotebook import tqdm\n",
        "\n",
        "def train_simple_network(model,\n",
        "                        loss_fn,\n",
        "                        training_loader,\n",
        "                        epochs=5,\n",
        "                        device='cpu',\n",
        "                        optimizer=optimizer):\n",
        "\n",
        "\n",
        "    model.to(device)\n",
        "\n",
        "    for epoch in range(epochs):\n",
        "\n",
        "        model = model.train()\n",
        "\n",
        "        running_loss = 0\n",
        "\n",
        "        for inputs , labels in training_loader:\n",
        "\n",
        "            inputs = inputs.to(device)\n",
        "            labels = labels.to(device)\n",
        "\n",
        "            optimizer.zero_grad()\n",
        "\n",
        "            y_pred = model(inputs)\n",
        "\n",
        "            loss = loss_fn(y_pred, labels)\n",
        "\n",
        "            loss.backward()\n",
        "\n",
        "            optimizer.step()\n",
        "\n",
        "            running_loss += loss.item()\n",
        "        print(running_loss)\n",
        "\n"
      ],
      "metadata": {
        "id": "gsB2dY3TI9U4"
      },
      "execution_count": 159,
      "outputs": []
    },
    {
      "cell_type": "code",
      "source": [
        "device = 'cuda' if torch.cuda.is_available() else 'cpu'\n",
        "device"
      ],
      "metadata": {
        "colab": {
          "base_uri": "https://localhost:8080/",
          "height": 36
        },
        "id": "tIER-Z6rKg6c",
        "outputId": "e2b5af1c-a32b-46f2-c2f5-854512e1faaa"
      },
      "execution_count": 150,
      "outputs": [
        {
          "output_type": "execute_result",
          "data": {
            "text/plain": [
              "'cpu'"
            ],
            "application/vnd.google.colaboratory.intrinsic+json": {
              "type": "string"
            }
          },
          "metadata": {},
          "execution_count": 150
        }
      ]
    },
    {
      "cell_type": "code",
      "source": [
        "train_simple_network(model_2,\n",
        "                loss_fn,\n",
        "                training_loader,\n",
        "                device=device,\n",
        "                epochs=500\n",
        "                )\n"
      ],
      "metadata": {
        "colab": {
          "base_uri": "https://localhost:8080/"
        },
        "id": "bMa9hYcwKkR0",
        "outputId": "a6e3375c-7347-4295-c2a1-90aa71efa53f"
      },
      "execution_count": 172,
      "outputs": [
        {
          "output_type": "stream",
          "name": "stdout",
          "text": [
            "350.7878251504153\n",
            "337.1662360318078\n",
            "341.6852936454561\n",
            "299.52712250441255\n",
            "344.66807517300595\n",
            "350.0105185468856\n",
            "324.87022507990787\n",
            "351.3191150015118\n",
            "324.8738775245329\n",
            "338.9451653422939\n",
            "348.5197874582591\n",
            "370.68885460665115\n",
            "330.95919222646535\n",
            "355.78351197062875\n",
            "336.6450755835431\n",
            "366.1107686245814\n",
            "334.7228709998308\n",
            "342.0673692082455\n",
            "313.6140018690203\n",
            "319.118738114772\n",
            "318.88444796195927\n",
            "283.6233888082206\n",
            "357.50896052104144\n",
            "338.2722765504386\n",
            "352.384803705776\n",
            "325.2608528553974\n",
            "349.7591710260431\n",
            "359.38357525835454\n",
            "349.78143412436475\n",
            "339.702818669939\n",
            "340.0723230538679\n",
            "356.3430258093322\n",
            "353.7041912605273\n",
            "339.8139047383088\n",
            "329.0802683921356\n",
            "335.55628333662753\n",
            "345.64900041569854\n",
            "347.49883990578746\n",
            "368.8668901107849\n",
            "357.76545596403594\n",
            "333.5053587122602\n",
            "332.8365372421722\n",
            "360.5330776458504\n",
            "327.25530620084555\n",
            "329.53728191655955\n",
            "349.8275882269845\n",
            "325.5435787347851\n",
            "325.3180032185446\n",
            "349.1744186009746\n",
            "322.1397344689176\n",
            "308.6262320209971\n",
            "335.429308303952\n",
            "321.7931637194997\n",
            "347.83756615508537\n",
            "374.6411392300797\n",
            "336.5368689792813\n",
            "333.0904220436387\n",
            "365.83267773654734\n",
            "330.23610471373104\n",
            "318.1137551449592\n",
            "348.8976935458486\n",
            "318.2296592649732\n",
            "333.67767654079944\n",
            "388.0139904259704\n",
            "342.3810217696591\n",
            "343.10033581463904\n",
            "352.72496243113073\n",
            "356.2016644282885\n",
            "347.4772189852083\n",
            "336.90045877045486\n",
            "381.26114565806347\n",
            "339.52267853419835\n",
            "333.81287765767775\n",
            "329.7274595882045\n",
            "378.4032183343327\n",
            "348.41038157287403\n",
            "325.4843465910417\n",
            "339.2680218333262\n",
            "320.10905368754175\n",
            "343.16977515444523\n",
            "349.427509602745\n",
            "332.48055584056783\n",
            "320.028130305207\n",
            "346.56162000203403\n",
            "341.702485633542\n",
            "330.06719109338883\n",
            "324.87496895466757\n",
            "345.21626090590144\n",
            "359.53933847279404\n",
            "346.6629154165489\n",
            "328.5216935782373\n",
            "333.0865313640679\n",
            "352.944227972941\n",
            "366.7791042273102\n",
            "326.16401576739736\n",
            "336.8467770385032\n",
            "369.29350685782265\n",
            "343.58408940551453\n",
            "358.1613663469325\n",
            "312.8880906629347\n",
            "344.8784016697573\n",
            "326.77533960939763\n",
            "336.68072256181995\n",
            "317.9183612336856\n",
            "337.9026300843543\n",
            "350.44567360497604\n",
            "318.41498778100527\n",
            "336.11430750443833\n",
            "384.79415862664064\n",
            "354.8006638851366\n",
            "337.66274395309756\n",
            "328.23723833693657\n",
            "317.0418356987866\n",
            "350.287359749904\n",
            "328.24803059867554\n",
            "366.1404852739797\n",
            "311.4451732035741\n",
            "343.8554071532735\n",
            "328.9941959093958\n",
            "328.16737477306197\n",
            "352.67316441464936\n",
            "328.91215726532937\n",
            "336.6687925164042\n",
            "340.800612810227\n",
            "338.7906768778921\n",
            "344.436626097362\n",
            "355.03444232710535\n",
            "341.93481392437116\n",
            "346.78875234877705\n",
            "324.9120754872856\n",
            "334.30473995103966\n",
            "305.93384906663414\n",
            "335.8689401875017\n",
            "324.04018932326653\n",
            "334.0452410124708\n",
            "380.6152972010459\n",
            "364.0715058673959\n",
            "354.73897333919103\n",
            "366.8111557739576\n",
            "314.14106823313705\n",
            "382.63006435439456\n",
            "337.0259921777979\n",
            "321.7309310559358\n",
            "331.22816137794143\n",
            "344.0757749058539\n",
            "330.4005558446879\n",
            "330.00807204048033\n",
            "365.18481499381596\n",
            "312.5311379293089\n",
            "395.04248762404313\n",
            "343.436681219413\n",
            "350.3306813999079\n",
            "330.95493635152525\n",
            "324.5402613138831\n",
            "341.40777346563937\n",
            "350.58232554918504\n",
            "313.9872380417737\n",
            "313.1326724452638\n",
            "315.5081667804998\n",
            "326.8544562481693\n",
            "350.28118033005376\n",
            "343.7533669976983\n",
            "334.45683368302116\n",
            "343.9497790584801\n",
            "356.81070138020004\n",
            "351.99200338634546\n",
            "345.0518433993748\n",
            "339.489726858028\n",
            "337.473419850081\n",
            "320.4087865921465\n",
            "345.04462772241095\n",
            "314.73560998220637\n",
            "363.8230312861199\n",
            "345.0105272215005\n",
            "330.89273887235413\n",
            "347.8823000530449\n",
            "378.61159100508576\n",
            "399.1651927306666\n",
            "397.7696841947036\n",
            "366.48721997662324\n",
            "387.02730064437856\n",
            "385.7697863353542\n",
            "398.0019189826817\n",
            "369.0587507776986\n",
            "373.86302783177234\n",
            "384.35638443530115\n",
            "388.6264071160631\n",
            "386.6395991994741\n",
            "371.3851603791645\n",
            "398.13276445894553\n",
            "421.90276862606333\n",
            "380.8066726861871\n",
            "402.43967129747034\n",
            "406.81031553668436\n",
            "377.44363214479563\n",
            "424.34139026722914\n",
            "370.1570867673372\n",
            "366.584237965355\n",
            "393.0395671805172\n",
            "382.48042015301803\n",
            "363.97827931978827\n",
            "391.984270158413\n",
            "406.7035546981724\n",
            "375.56254968309077\n",
            "411.51494986811304\n",
            "360.0480521735735\n",
            "392.7395989700017\n",
            "401.8815833053386\n",
            "407.6448241061007\n",
            "378.35590655375563\n",
            "375.34767295516303\n",
            "386.62049847084927\n",
            "392.1974858963804\n",
            "402.48707365602604\n",
            "395.8538649322145\n",
            "386.3232624614757\n",
            "351.49190093245124\n",
            "378.2821572025714\n",
            "391.1917116229888\n",
            "385.6440912187463\n",
            "421.1367075068192\n",
            "390.4794166687643\n",
            "399.5301554567268\n",
            "392.2594885965809\n",
            "412.47634733689483\n",
            "392.10175667832686\n",
            "391.80931379972026\n",
            "371.76037544658175\n",
            "392.49736994563136\n",
            "380.8133177794225\n",
            "396.4687002915307\n",
            "382.19346800284984\n",
            "379.409608736285\n",
            "371.75389187339533\n",
            "391.81300445774104\n",
            "385.78285413003323\n",
            "377.2963598972419\n",
            "396.03476659656735\n",
            "380.27262511718436\n",
            "371.82342825469095\n",
            "384.2153322193917\n",
            "380.9042212132881\n",
            "375.99496255029953\n",
            "389.8921367079747\n",
            "396.82657005114015\n",
            "397.8786963340099\n",
            "385.335100403463\n",
            "369.9520894122579\n",
            "371.7257350031723\n",
            "380.03888587853\n",
            "402.8443312373165\n",
            "419.7285211771814\n",
            "406.1251996406354\n",
            "389.238850212947\n",
            "384.15331192535814\n",
            "403.3754927316004\n",
            "394.81992771867954\n",
            "399.72116929240656\n",
            "379.45035378783086\n",
            "390.92961128463867\n",
            "407.1574026572198\n",
            "372.0441917522585\n",
            "369.9144500800403\n",
            "388.5341954276846\n",
            "379.49052588697305\n",
            "374.9882463261747\n",
            "386.1497013347689\n",
            "379.02619790356243\n",
            "372.1091171686494\n",
            "381.19504036090075\n",
            "401.35119062036233\n",
            "378.9284660583662\n",
            "381.90457853432235\n",
            "380.0308996290969\n",
            "401.21400142498715\n",
            "382.2942045972568\n",
            "392.1443503242099\n",
            "370.53467813565294\n",
            "388.2047133704509\n",
            "410.7856964174289\n",
            "384.57947353513737\n",
            "387.48355167360205\n",
            "369.85546561752926\n",
            "365.31914679630427\n",
            "406.4638046448381\n",
            "379.2754360100644\n",
            "406.3061395679433\n",
            "393.06900181443507\n",
            "390.0594147207785\n",
            "403.6546189667133\n",
            "377.9959931318299\n",
            "375.75303556359904\n",
            "402.84622118761763\n",
            "366.3476396093647\n",
            "392.0062125775148\n",
            "389.0651617196272\n",
            "383.6718944932927\n",
            "383.73289221174855\n",
            "370.4440953667108\n",
            "386.5598052485084\n",
            "387.67156243519275\n",
            "398.30004323298635\n",
            "397.67924240994034\n",
            "388.4276551986113\n",
            "391.09728438914317\n",
            "385.09998769869344\n",
            "382.74694530597844\n",
            "395.4653672513523\n",
            "402.59039943202515\n",
            "403.30555512454157\n",
            "382.98713777972466\n",
            "369.4606723826728\n",
            "398.303698749035\n",
            "393.92121117231727\n",
            "392.37709821597673\n",
            "386.74669609044213\n",
            "370.1964868836294\n",
            "396.2635303506577\n",
            "403.3186304806668\n",
            "379.3219542821098\n",
            "406.9842941337811\n",
            "370.2967258204053\n",
            "412.28970519145514\n",
            "383.3209441890722\n",
            "396.24865741622125\n",
            "382.68605442147236\n",
            "386.5936809445275\n",
            "381.5618753765011\n",
            "393.3239546260977\n",
            "393.5685156152904\n",
            "376.5648253007821\n",
            "361.91405339849007\n",
            "404.0489931284219\n",
            "391.97297996110956\n",
            "413.71236445241084\n",
            "405.0826315560407\n",
            "378.36486987806074\n",
            "377.6815341978456\n",
            "396.86943167538107\n",
            "384.73730664468167\n",
            "395.01383751304184\n",
            "385.68887644097504\n",
            "380.5073662659088\n",
            "371.6006379271421\n",
            "381.4778817360457\n",
            "377.2292581575457\n",
            "396.59519825229654\n",
            "425.6916701361224\n",
            "376.49695569544406\n",
            "376.18803706403196\n",
            "376.20386767181844\n",
            "421.47585950787834\n",
            "374.25810088039725\n",
            "384.2314648934862\n",
            "360.8907820412569\n",
            "378.33689324239094\n",
            "409.85773959211656\n",
            "379.2776287358611\n",
            "382.877660733182\n",
            "405.72788255254636\n",
            "400.8369961339413\n",
            "406.23722653758887\n",
            "364.32950224307933\n",
            "403.0594388530917\n",
            "400.30741855742235\n",
            "378.2532234309074\n",
            "383.5065882730996\n",
            "389.06484514748445\n",
            "369.1377768284583\n",
            "402.02475190372206\n",
            "377.47372949910095\n",
            "408.83934508040653\n",
            "388.471550164948\n",
            "366.8174163822332\n",
            "379.479338410998\n",
            "383.7870811893017\n",
            "391.9213968661388\n",
            "399.1564407841306\n",
            "377.4778785032886\n",
            "391.08874244149774\n",
            "385.8822262413865\n",
            "409.5871595059871\n",
            "374.69876980781555\n",
            "410.09586884238524\n",
            "436.43084435134824\n",
            "389.57488806851325\n",
            "380.54337899593884\n",
            "399.86601061087276\n",
            "365.1724198020711\n",
            "383.8130537495417\n",
            "393.4971645201731\n",
            "376.0142062070663\n",
            "375.32882179926673\n",
            "364.69248939947374\n",
            "407.1032636924647\n",
            "390.1020558514267\n",
            "354.9853157143816\n",
            "372.8958814069665\n",
            "376.9414207157679\n",
            "389.4094285783658\n",
            "407.5792431568989\n",
            "383.0709809153923\n",
            "384.772359943192\n",
            "378.3720934907833\n",
            "405.3094659686685\n",
            "380.2219183432535\n",
            "368.6658211997128\n",
            "385.8204752389365\n",
            "363.0538373094605\n",
            "374.3307693101233\n",
            "402.5997699192085\n",
            "365.9570129787462\n",
            "332.48245345387113\n",
            "418.516828401509\n",
            "400.72911006980576\n",
            "402.4625734915171\n",
            "392.43709721043706\n",
            "370.8491479826225\n",
            "374.6401496255421\n",
            "371.18096121147846\n",
            "392.61423127553826\n",
            "391.49135529304476\n",
            "400.02655995254827\n",
            "414.8419503921177\n",
            "402.31369033081864\n",
            "360.973440965332\n",
            "403.0534294281606\n",
            "379.52921699405124\n",
            "402.82442486776563\n",
            "379.42367018261575\n",
            "386.7048864107833\n",
            "385.0624314037268\n",
            "401.571676978725\n",
            "397.637781575555\n",
            "365.4808102511024\n",
            "394.7901113137523\n",
            "390.9269567301535\n",
            "386.4339780580776\n",
            "378.71923377215853\n",
            "399.0906895883909\n",
            "383.2298847280763\n",
            "378.9077651556581\n",
            "378.2488323827565\n",
            "383.9013680711796\n",
            "415.98749103417504\n",
            "386.4159445661644\n",
            "379.64441560782143\n",
            "397.4823492720607\n",
            "382.18305702361977\n",
            "425.74588016350754\n",
            "407.4319048504294\n",
            "374.34978385748855\n",
            "362.47264575373265\n",
            "378.8600627240812\n",
            "393.1492394224624\n",
            "374.1751250666275\n",
            "387.001110208088\n",
            "379.9655334984127\n",
            "388.0449323533685\n",
            "372.662346932324\n",
            "390.43579547854415\n",
            "376.04929972584796\n",
            "377.81745886655335\n",
            "386.5736338347924\n",
            "385.8226736346078\n",
            "402.3948256619042\n",
            "392.90391983796144\n",
            "414.85605598850816\n",
            "405.6293019806035\n",
            "398.2185514477169\n",
            "367.2781592243019\n",
            "383.9852036523607\n",
            "390.7482269485263\n",
            "421.2474617604257\n",
            "365.41568799516244\n",
            "389.1901259266451\n",
            "384.32584306574427\n",
            "385.65356036182493\n",
            "385.33162064355565\n",
            "377.9133980079214\n",
            "399.56241936562583\n",
            "378.5702782826411\n",
            "384.6473602737533\n",
            "402.6747425590547\n",
            "359.68257261187046\n",
            "371.8858505830576\n",
            "385.2076045560243\n",
            "358.43964673456503\n",
            "392.64599547191756\n",
            "401.10350376716906\n",
            "392.45968900984735\n",
            "376.2728744618653\n",
            "394.7110218152229\n",
            "366.454221425538\n",
            "371.8522023617588\n",
            "373.30259218544234\n",
            "400.6550984457717\n",
            "385.2479329582711\n",
            "389.9038822671728\n",
            "358.3994371757435\n"
          ]
        }
      ]
    },
    {
      "cell_type": "code",
      "source": [
        "# lets try our model\n",
        "model_2.to('cpu')\n",
        "\n",
        "model_2.eval()\n",
        "\n",
        "with torch.inference_mode():\n",
        "    y_pred_m2 = model_2(torch.tensor(X,dtype=torch.float32).reshape(-1,1)).cpu().numpy()"
      ],
      "metadata": {
        "id": "cySOBEuSKutl"
      },
      "execution_count": 173,
      "outputs": []
    },
    {
      "cell_type": "code",
      "source": [
        "sns.scatterplot(x=X,y=y , color='blue',label='Data')\n",
        "sns.lineplot(x=X,y=y_pred_m2.ravel(),color='red',label='Linear model')\n"
      ],
      "metadata": {
        "colab": {
          "base_uri": "https://localhost:8080/",
          "height": 447
        },
        "id": "LNlE_oJwLDqT",
        "outputId": "749f45b5-f2ad-452c-f062-28dab869af8c"
      },
      "execution_count": 174,
      "outputs": [
        {
          "output_type": "execute_result",
          "data": {
            "text/plain": [
              "<Axes: >"
            ]
          },
          "metadata": {},
          "execution_count": 174
        },
        {
          "output_type": "display_data",
          "data": {
            "text/plain": [
              "<Figure size 640x480 with 1 Axes>"
            ],
            "image/png": "[encoded data removed]"
          },
          "metadata": {}
        }
      ]
    },
    {
      "cell_type": "code",
      "source": [],
      "metadata": {
        "id": "1p4yPWdaLFus"
      },
      "execution_count": 129,
      "outputs": []
    }
  ]
}