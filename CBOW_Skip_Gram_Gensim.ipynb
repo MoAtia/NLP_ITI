{
  "nbformat": 4,
  "nbformat_minor": 0,
  "metadata": {
    "colab": {
      "provenance": []
    },
    "kernelspec": {
      "name": "python3",
      "display_name": "Python 3"
    },
    "language_info": {
      "name": "python"
    }
  },
  "cells": [
    {
      "cell_type": "code",
      "source": [
        "import numpy as np\n",
        "import gensim.downloader as api"
      ],
      "metadata": {
        "id": "9XTs0WU1Rew2"
      },
      "execution_count": 1,
      "outputs": []
    },
    {
      "cell_type": "code",
      "source": [
        "model = api.load('glove-wiki-gigaword-100')"
      ],
      "metadata": {
        "colab": {
          "base_uri": "https://localhost:8080/"
        },
        "id": "nQvxszQYVGHy",
        "outputId": "44a64637-1d57-4a4e-a6a2-949654b7b45e"
      },
      "execution_count": 2,
      "outputs": [
        {
          "output_type": "stream",
          "name": "stdout",
          "text": [
            "[==================================================] 100.0% 128.1/128.1MB downloaded\n"
          ]
        }
      ]
    },
    {
      "cell_type": "markdown",
      "source": [
        "# Continuous Bag Of Word"
      ],
      "metadata": {
        "id": "leYkF_n2b05M"
      }
    },
    {
      "cell_type": "code",
      "source": [
        "def cbow_predict(context_words, model, topn=5):\n",
        "\n",
        "  arr = np.zeros((len(context_words),100))\n",
        "  for i,word in enumerate(context_words):\n",
        "    vec = model.get_vector(word)\n",
        "    arr[i,:] = vec\n",
        "\n",
        "  avg_vec = arr.mean(axis=0)\n",
        "\n",
        "  return model.most_similar(avg_vec, topn=5)\n",
        "\n"
      ],
      "metadata": {
        "id": "08dIW72WXdsT"
      },
      "execution_count": 22,
      "outputs": []
    },
    {
      "cell_type": "code",
      "source": [
        "cbow_predict([\"mango\",\"banana\"], model, topn=5)"
      ],
      "metadata": {
        "colab": {
          "base_uri": "https://localhost:8080/"
        },
        "id": "pUCnGDw7Zy_6",
        "outputId": "bc909f4a-b103-4998-f6cf-5ea923cd2ae5"
      },
      "execution_count": 26,
      "outputs": [
        {
          "output_type": "execute_result",
          "data": {
            "text/plain": [
              "[('banana', 0.9245442152023315),\n",
              " ('mango', 0.9223278760910034),\n",
              " ('pineapple', 0.8020710349082947),\n",
              " ('coconut', 0.7987604737281799),\n",
              " ('papaya', 0.7952302694320679)]"
            ]
          },
          "metadata": {},
          "execution_count": 26
        }
      ]
    },
    {
      "cell_type": "markdown",
      "source": [
        "# Skip Gram"
      ],
      "metadata": {
        "id": "rGfW4E8Yb-nD"
      }
    },
    {
      "cell_type": "code",
      "source": [
        "def skipgram(model, words):\n",
        "    result = []\n",
        "    for word in words:\n",
        "        result.append(model.most_similar(word,topn=5))\n",
        "    return result\n"
      ],
      "metadata": {
        "id": "jausk2T9bPSy"
      },
      "execution_count": 27,
      "outputs": []
    },
    {
      "cell_type": "code",
      "source": [
        "skipgram(model,[\"mango\",\"banana\"])"
      ],
      "metadata": {
        "colab": {
          "base_uri": "https://localhost:8080/"
        },
        "id": "4dBR1ooGbYbJ",
        "outputId": "bedb94cc-01fe-4d99-d273-ae3d0fade28b"
      },
      "execution_count": 28,
      "outputs": [
        {
          "output_type": "execute_result",
          "data": {
            "text/plain": [
              "[[('papaya', 0.8455770015716553),\n",
              "  ('pineapple', 0.8291023373603821),\n",
              "  ('guava', 0.8188870549201965),\n",
              "  ('avocado', 0.7857655882835388),\n",
              "  ('coconut', 0.765885591506958)],\n",
              " [('coconut', 0.7097253203392029),\n",
              "  ('mango', 0.7054824829101562),\n",
              "  ('bananas', 0.6887733340263367),\n",
              "  ('potato', 0.6629636287689209),\n",
              "  ('pineapple', 0.6534532308578491)]]"
            ]
          },
          "metadata": {},
          "execution_count": 28
        }
      ]
    },
    {
      "cell_type": "markdown",
      "source": [
        "if the input words have the same context, the output word of CBOW should be semantically in the same context as the output of skip-gram."
      ],
      "metadata": {
        "id": "YmK6keAicFhT"
      }
    },
    {
      "cell_type": "code",
      "source": [],
      "metadata": {
        "id": "zGmdsuAobfla"
      },
      "execution_count": null,
      "outputs": []
    }
  ]
}